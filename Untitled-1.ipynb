{
 "cells": [
  {
   "cell_type": "markdown",
   "metadata": {},
   "source": [
    "# Excercide coursera"
   ]
  },
  {
   "cell_type": "markdown",
   "metadata": {},
   "source": [
    "## This is markdown introduction"
   ]
  },
  {
   "cell_type": "markdown",
   "metadata": {},
   "source": [
    "## Some languages support data science is\n",
    "python, R, SQL, Julia, Scala, Java, Matlab, SAS, javascript, C/C++"
   ]
  },
  {
   "cell_type": "markdown",
   "metadata": {},
   "source": [
    "## some libraries support data science:\n",
    "- python: pandas, numpy, mathplotlib\n",
    "- R: ggplot2,caret,plotly,...\n",
    "- java: apache spack"
   ]
  },
  {
   "cell_type": "markdown",
   "metadata": {},
   "source": [
    "## Some of tools support data science\n",
    "| language |                  tool                      |\n",
    "|----------|--------------------------------------------|\n",
    "| python   | Scikit, tensorFlow, kenras,pytouch,...     |\n",
    "| R        | caret, randomForest, mlr                   |\n",
    "| Java     | Weka, Deeplearning4j, RapidMiner           |"
   ]
  },
  {
   "cell_type": "markdown",
   "metadata": {},
   "source": [
    "a = 5\n",
    "b = 3\n",
    "\n",
    "# Addition\n",
    "result = a + b  #### Result: 8\n",
    "\n",
    "# Subtraction\n",
    "result = a - b  #### Result: 2\n",
    "\n",
    "# Multiplication\n",
    "result = a * b  #### Result: 15\n",
    "\n",
    "# Division\n",
    "result = a / b  #### Result: 1.6667\n",
    "\n",
    "# Exponentiation\n",
    "result = a ** b  #### Result: 125\n",
    "\n",
    "# Modulus\n",
    "result = a % b  #### Result: 2\n"
   ]
  },
  {
   "cell_type": "code",
   "execution_count": 1,
   "metadata": {},
   "outputs": [
    {
     "name": "stdout",
     "output_type": "stream",
     "text": [
      "20\n",
      "9\n"
     ]
    }
   ],
   "source": [
    "a = 5\n",
    "b = 4\n",
    "print (a * b)\n",
    "print (a + b)"
   ]
  },
  {
   "cell_type": "code",
   "execution_count": 6,
   "metadata": {},
   "outputs": [
    {
     "name": "stdout",
     "output_type": "stream",
     "text": [
      "hours =  0.16666666666666666\n"
     ]
    }
   ],
   "source": [
    "# convert minutes to hours\n",
    "minute = 10\n",
    "hours = 60\n",
    "results = minute / hours\n",
    "print (\"hours = \",results) "
   ]
  },
  {
   "cell_type": "markdown",
   "metadata": {},
   "source": [
    "#### Objectives\n",
    "\n",
    "1. Understand basic Python syntax\n",
    "2. Learn how to use the `print()` function\n",
    "3. Explore arithmetic expressions and their uses\n",
    "4. Practice creating and displaying tables in Jupyter Notebook\n",
    "5. Learn how to format and print strings using different methods\n",
    "6. Implement data manipulation using Pandas\n",
    "7. Visualize data using plotting libraries"
   ]
  },
  {
   "cell_type": "markdown",
   "metadata": {},
   "source": [
    "## Author: Nguyen Hai Duong"
   ]
  }
 ],
 "metadata": {
  "kernelspec": {
   "display_name": "Python 3",
   "language": "python",
   "name": "python3"
  },
  "language_info": {
   "codemirror_mode": {
    "name": "ipython",
    "version": 3
   },
   "file_extension": ".py",
   "mimetype": "text/x-python",
   "name": "python",
   "nbconvert_exporter": "python",
   "pygments_lexer": "ipython3",
   "version": "3.11.4"
  }
 },
 "nbformat": 4,
 "nbformat_minor": 2
}
